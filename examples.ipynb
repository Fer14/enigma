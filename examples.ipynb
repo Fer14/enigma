{
 "cells": [
  {
   "cell_type": "code",
   "execution_count": 2,
   "metadata": {},
   "outputs": [],
   "source": [
    "%load_ext autoreload\n",
    "%autoreload 2"
   ]
  },
  {
   "cell_type": "code",
   "execution_count": 3,
   "metadata": {},
   "outputs": [],
   "source": [
    "from enigma.machine import EnigmaMachine, Machine"
   ]
  },
  {
   "cell_type": "markdown",
   "metadata": {},
   "source": [
    "# Basic usage"
   ]
  },
  {
   "cell_type": "code",
   "execution_count": 4,
   "metadata": {},
   "outputs": [
    {
     "name": "stdout",
     "output_type": "stream",
     "text": [
      "ZSIAH\n"
     ]
    }
   ],
   "source": [
    "enigma_sender = EnigmaMachine(\n",
    "    rotor_wirings=[\n",
    "        \"BDFHJLCPRTXVZNYEIWGAKMUSQO\",\n",
    "        \"AJDKSIRUXBLHWTMCQGZNPYFVOE\",\n",
    "        \"EKMFLGDQVZNTOWYHXUSPAIBRCJ\",\n",
    "    ],\n",
    "    rotor_offsets=[0, 0, 0],\n",
    "    reflector_wirings='YRUHQSLDPXNGOKMIEBFZCWVJAT'\n",
    ")\n",
    "encripted_msg = enigma_sender.encrypt(\"HELLO\")\n",
    "print(encripted_msg)"
   ]
  },
  {
   "cell_type": "code",
   "execution_count": 5,
   "metadata": {},
   "outputs": [
    {
     "name": "stdout",
     "output_type": "stream",
     "text": [
      "HELLO\n"
     ]
    }
   ],
   "source": [
    "enigma_receiver = EnigmaMachine(\n",
    "    rotor_wirings=[\n",
    "        \"BDFHJLCPRTXVZNYEIWGAKMUSQO\",\n",
    "        \"AJDKSIRUXBLHWTMCQGZNPYFVOE\",\n",
    "        \"EKMFLGDQVZNTOWYHXUSPAIBRCJ\",\n",
    "    ],\n",
    "    rotor_offsets=[0, 0, 0],\n",
    "    reflector_wirings='YRUHQSLDPXNGOKMIEBFZCWVJAT')\n",
    "\n",
    "\n",
    "decripted_msg = enigma_receiver.encrypt(encripted_msg)\n",
    "print(decripted_msg)\n"
   ]
  },
  {
   "cell_type": "code",
   "execution_count": 6,
   "metadata": {},
   "outputs": [],
   "source": [
    "assert decripted_msg == \"HELLO\""
   ]
  },
  {
   "cell_type": "markdown",
   "metadata": {},
   "source": [
    "### Each time a letter is pressed, the rotor offests change\n"
   ]
  },
  {
   "cell_type": "code",
   "execution_count": 7,
   "metadata": {},
   "outputs": [
    {
     "name": "stdout",
     "output_type": "stream",
     "text": [
      "MHEXP\n",
      "CVMKV\n",
      "TKSWG\n",
      "KMDZT\n",
      "QTTXS\n"
     ]
    }
   ],
   "source": [
    "for r in range(5):\n",
    "    print(enigma_sender.encrypt(\"HELLO\"))"
   ]
  },
  {
   "cell_type": "markdown",
   "metadata": {},
   "source": [
    "## Usage of predefined configurations"
   ]
  },
  {
   "cell_type": "code",
   "execution_count": 8,
   "metadata": {},
   "outputs": [],
   "source": [
    "from enigma.configurations import ROTOR_CONFIGURATIONS, REFLECTOR_CONFIGURATIONS"
   ]
  },
  {
   "cell_type": "code",
   "execution_count": 9,
   "metadata": {},
   "outputs": [
    {
     "data": {
      "text/plain": [
       "[<enigma.configurations.RotorConfig at 0x7f42ec2231c0>,\n",
       " <enigma.configurations.RotorConfig at 0x7f42ec221480>,\n",
       " <enigma.configurations.RotorConfig at 0x7f42ec2228f0>]"
      ]
     },
     "execution_count": 9,
     "metadata": {},
     "output_type": "execute_result"
    }
   ],
   "source": [
    "ROTOR_CONFIGURATIONS['Commercial Enigma A, B']"
   ]
  },
  {
   "cell_type": "code",
   "execution_count": 10,
   "metadata": {},
   "outputs": [
    {
     "data": {
      "text/plain": [
       "ReflectorConfig(wiring='EJMZALYXVBWFCRQUONTSPIKHGD', name='A')"
      ]
     },
     "execution_count": 10,
     "metadata": {},
     "output_type": "execute_result"
    }
   ],
   "source": [
    "REFLECTOR_CONFIGURATIONS['A']"
   ]
  },
  {
   "cell_type": "code",
   "execution_count": 11,
   "metadata": {},
   "outputs": [
    {
     "name": "stdout",
     "output_type": "stream",
     "text": [
      "GLZPK\n"
     ]
    }
   ],
   "source": [
    "enigma = EnigmaMachine.from_configuration(\n",
    "    rotor_config=ROTOR_CONFIGURATIONS['Commercial Enigma A, B'],\n",
    "    rotor_offsets = [0,0,0],\n",
    "    reflector_config=REFLECTOR_CONFIGURATIONS['A'],\n",
    "    plugboard_wirings = {}\n",
    ")\n",
    "print(enigma.encrypt(\"HELLO\"))"
   ]
  },
  {
   "cell_type": "markdown",
   "metadata": {},
   "source": [
    "### You can print the configuration with the get_config() method"
   ]
  },
  {
   "cell_type": "code",
   "execution_count": 12,
   "metadata": {},
   "outputs": [
    {
     "name": "stdout",
     "output_type": "stream",
     "text": [
      "+----------------+-----------------------------------------------+\n",
      "| Component      | Details                                       |\n",
      "+================+===============================================+\n",
      "| PlugBoard      | Wiring: {}                                    |\n",
      "+----------------+-----------------------------------------------+\n",
      "| RotorMechanism |                                               |\n",
      "+----------------+-----------------------------------------------+\n",
      "| Rotor R        | Offset: 4, Wiring: BDFHJLCPRTXVZNYEIWGAKMUSQO |\n",
      "+----------------+-----------------------------------------------+\n",
      "| Rotor M        | Offset: 1, Wiring: AJDKSIRUXBLHWTMCQGZNPYFVOE |\n",
      "+----------------+-----------------------------------------------+\n",
      "| Rotor L        | Offset: 0, Wiring: EKMFLGDQVZNTOWYHXUSPAIBRCJ |\n",
      "+----------------+-----------------------------------------------+\n",
      "| Reflector      | Wiring: YRUHQSLDPXNGOKMIEBFZCWVJAT            |\n",
      "+----------------+-----------------------------------------------+\n",
      "| PlugBoard      | Wiring: {}                                    |\n",
      "+----------------+-----------------------------------------------+\n"
     ]
    }
   ],
   "source": [
    "enigma_sender.get_config()"
   ]
  },
  {
   "cell_type": "markdown",
   "metadata": {},
   "source": [
    "### You can print all the changes in the letters with verbose=True"
   ]
  },
  {
   "cell_type": "code",
   "execution_count": 13,
   "metadata": {},
   "outputs": [
    {
     "name": "stdout",
     "output_type": "stream",
     "text": [
      "Encrypting H to H with plugboard\n",
      "Encrypting H to K with rotor IC at offset 5\n",
      "Encrypting K to L with rotor IIC at offset 0\n",
      "Encrypting L to H with rotor IIIC at offset 0\n",
      "Encrypting H to X with reflector\n",
      "Encrypting X to O with rotor IIIC at offset 0\n",
      "Encrypting O to I with rotor IIC at offset 0\n",
      "Encrypting I to A with rotor IC at offset 5\n",
      "Encrypting A to A with plugboard\n"
     ]
    },
    {
     "data": {
      "text/plain": [
       "'A'"
      ]
     },
     "execution_count": 13,
     "metadata": {},
     "output_type": "execute_result"
    }
   ],
   "source": [
    "enigma.encrypt(\"H\", verbose=True)"
   ]
  },
  {
   "cell_type": "markdown",
   "metadata": {},
   "source": [
    "## Alternatively, you can build your own machine with your own rotors, reflectors, and plugboard"
   ]
  },
  {
   "cell_type": "code",
   "execution_count": 14,
   "metadata": {},
   "outputs": [],
   "source": [
    "from enigma.object import Rotor, Reflector,PlugBoard"
   ]
  },
  {
   "cell_type": "code",
   "execution_count": 15,
   "metadata": {},
   "outputs": [
    {
     "data": {
      "text/plain": [
       "True"
      ]
     },
     "execution_count": 15,
     "metadata": {},
     "output_type": "execute_result"
    }
   ],
   "source": [
    "isinstance({\"A\":\"B\"},dict)"
   ]
  },
  {
   "cell_type": "code",
   "execution_count": 16,
   "metadata": {},
   "outputs": [],
   "source": [
    "custom_machine = Machine(\n",
    "    [\n",
    "        PlugBoard(\n",
    "            wiring={\"A\":\"B\"}\n",
    "        ),\n",
    "        Rotor(\n",
    "            wiring=\"EKMFLGDQVZNTOWYHXUSPAIBRCJ\",\n",
    "            offset=0\n",
    "        ),\n",
    "        Reflector(\n",
    "            wiring=\"YRUHQSLDPXNGOKMIEBFZCWVJAT\"\n",
    "        )\n",
    "    ]\n",
    ")"
   ]
  },
  {
   "cell_type": "code",
   "execution_count": 17,
   "metadata": {},
   "outputs": [
    {
     "data": {
      "text/plain": [
       "'EGZZA'"
      ]
     },
     "execution_count": 17,
     "metadata": {},
     "output_type": "execute_result"
    }
   ],
   "source": [
    "custom_machine.encrypt(\"HELLO\")"
   ]
  }
 ],
 "metadata": {
  "kernelspec": {
   "display_name": "Python 3",
   "language": "python",
   "name": "python3"
  },
  "language_info": {
   "codemirror_mode": {
    "name": "ipython",
    "version": 3
   },
   "file_extension": ".py",
   "mimetype": "text/x-python",
   "name": "python",
   "nbconvert_exporter": "python",
   "pygments_lexer": "ipython3",
   "version": "3.10.0"
  }
 },
 "nbformat": 4,
 "nbformat_minor": 2
}
