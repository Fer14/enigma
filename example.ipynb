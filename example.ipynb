{
 "cells": [
  {
   "cell_type": "code",
   "execution_count": 12,
   "metadata": {},
   "outputs": [],
   "source": [
    "from enigma.machine import EnigmaMachine,Machine\n",
    "from enigma.object import PlugBoard,RotorMechanism, Rotor,Reflector"
   ]
  },
  {
   "cell_type": "code",
   "execution_count": 14,
   "metadata": {},
   "outputs": [],
   "source": [
    "LETTERS = \"ABCDEFGHIJKLMNOPQRSTUVWXYZ\""
   ]
  },
  {
   "cell_type": "code",
   "execution_count": 16,
   "metadata": {},
   "outputs": [],
   "source": [
    "enigma = EnigmaMachine(\n",
    "    rotor_positions=[1, 5, 20],\n",
    "    plugboard_connections={\"A\": \"B\", \"C\": \"D\",},\n",
    "    reflector_connections={a: b for a, b in zip(LETTERS, reversed(LETTERS))},\n",
    ")"
   ]
  },
  {
   "cell_type": "code",
   "execution_count": 22,
   "metadata": {},
   "outputs": [],
   "source": [
    "enigma = EnigmaMachine(\n",
    "    rotor_positions=[1, 5, 20],\n",
    "    plugboard_connections={\"A\": \"B\", \"C\": \"D\",},\n",
    "    reflector_connections={a: b for a, b in zip(LETTERS, reversed(LETTERS))},\n",
    ")"
   ]
  },
  {
   "cell_type": "code",
   "execution_count": 24,
   "metadata": {},
   "outputs": [
    {
     "data": {
      "text/plain": [
       "'YPPXC'"
      ]
     },
     "execution_count": 24,
     "metadata": {},
     "output_type": "execute_result"
    }
   ],
   "source": [
    "enigma.encrypt(\"HELLO\")"
   ]
  }
 ],
 "metadata": {
  "kernelspec": {
   "display_name": "Python 3",
   "language": "python",
   "name": "python3"
  },
  "language_info": {
   "codemirror_mode": {
    "name": "ipython",
    "version": 3
   },
   "file_extension": ".py",
   "mimetype": "text/x-python",
   "name": "python",
   "nbconvert_exporter": "python",
   "pygments_lexer": "ipython3",
   "version": "3.10.0"
  }
 },
 "nbformat": 4,
 "nbformat_minor": 2
}
