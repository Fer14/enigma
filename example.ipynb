{
 "cells": [
  {
   "cell_type": "code",
   "execution_count": 12,
   "metadata": {},
   "outputs": [],
   "source": [
    "from enigma.machine import EnigmaMachine,Machine\n",
    "from enigma.object import PlugBoard,RotorMechanism, Rotor,Reflector"
   ]
  },
  {
   "cell_type": "code",
   "execution_count": 13,
   "metadata": {},
   "outputs": [],
   "source": [
    "%load_ext autoreload\n",
    "%autoreload 2"
   ]
  },
  {
   "cell_type": "code",
   "execution_count": 14,
   "metadata": {},
   "outputs": [],
   "source": [
    "LETTERS = \"ABCDEFGHIJKLMNOPQRSTUVWXYZ\""
   ]
  },
  {
   "cell_type": "code",
   "execution_count": 15,
   "metadata": {},
   "outputs": [
    {
     "data": {
      "text/plain": [
       "{'A': 'T',\n",
       " 'B': 'J',\n",
       " 'C': 'R',\n",
       " 'D': 'X',\n",
       " 'E': 'L',\n",
       " 'F': 'C',\n",
       " 'G': 'V',\n",
       " 'H': 'M',\n",
       " 'I': 'E',\n",
       " 'J': 'B',\n",
       " 'K': 'S',\n",
       " 'L': 'D',\n",
       " 'M': 'H',\n",
       " 'N': 'U',\n",
       " 'O': 'K',\n",
       " 'P': 'Y',\n",
       " 'Q': 'N',\n",
       " 'R': 'P',\n",
       " 'S': 'Q',\n",
       " 'T': 'A',\n",
       " 'U': 'W',\n",
       " 'V': 'O',\n",
       " 'W': 'Z',\n",
       " 'X': 'G',\n",
       " 'Y': 'I',\n",
       " 'Z': 'F'}"
      ]
     },
     "execution_count": 15,
     "metadata": {},
     "output_type": "execute_result"
    }
   ],
   "source": [
    "import random\n",
    "shuffled_letters = list(LETTERS)\n",
    "random.shuffle(shuffled_letters)\n",
    "{i: o for i, o in zip(LETTERS, shuffled_letters)}"
   ]
  },
  {
   "cell_type": "code",
   "execution_count": 16,
   "metadata": {},
   "outputs": [],
   "source": [
    "enigma = EnigmaMachine(\n",
    "    rotor_positions=[1, 5, 20],\n",
    "    plugboard_connections={\"A\": \"B\", \"C\": \"D\",},\n",
    "    reflector_connections={a: b for a, b in zip(LETTERS, reversed(LETTERS))},\n",
    ")"
   ]
  },
  {
   "cell_type": "code",
   "execution_count": 17,
   "metadata": {},
   "outputs": [],
   "source": [
    "for i in range(1):\n",
    "    enigma.encrypt(\"A\")"
   ]
  },
  {
   "cell_type": "markdown",
   "metadata": {},
   "source": [
    "-----------------------------------------"
   ]
  },
  {
   "cell_type": "code",
   "execution_count": 18,
   "metadata": {},
   "outputs": [],
   "source": [
    "rotor_positions=[1, 5, 20]\n",
    "rotors = [Rotor(position=position) for position in rotor_positions]\n",
    "reflector = Reflector({a: b for a, b in zip(LETTERS, reversed(LETTERS))})\n",
    "rotor_mechanism = RotorMechanism(rotors=rotors)\n",
    "rotor_mechanism_inverted = RotorMechanism(\n",
    "    rotors=rotors,\n",
    "    inversed=True,\n",
    ")\n",
    "plug = PlugBoard(\n",
    "    connections={\"A\": \"Z\", \"C\": \"H\",}\n",
    ")\n",
    "m = Machine(\n",
    "   [plug,rotor_mechanism,reflector,rotor_mechanism_inverted,plug]\n",
    ")"
   ]
  },
  {
   "cell_type": "code",
   "execution_count": 19,
   "metadata": {},
   "outputs": [
    {
     "name": "stdout",
     "output_type": "stream",
     "text": [
      "------------\n",
      "------------\n",
      "------------\n",
      "------------\n",
      "------------\n",
      "------------\n",
      "------------\n",
      "------------\n",
      "------------\n",
      "------------\n"
     ]
    }
   ],
   "source": [
    "for i in range(10):\n",
    "    print(\"------------\")\n",
    "    m.encrypt(\"A\")"
   ]
  },
  {
   "cell_type": "code",
   "execution_count": null,
   "metadata": {},
   "outputs": [],
   "source": []
  }
 ],
 "metadata": {
  "kernelspec": {
   "display_name": "Python 3",
   "language": "python",
   "name": "python3"
  },
  "language_info": {
   "codemirror_mode": {
    "name": "ipython",
    "version": 3
   },
   "file_extension": ".py",
   "mimetype": "text/x-python",
   "name": "python",
   "nbconvert_exporter": "python",
   "pygments_lexer": "ipython3",
   "version": "3.10.0"
  }
 },
 "nbformat": 4,
 "nbformat_minor": 2
}
